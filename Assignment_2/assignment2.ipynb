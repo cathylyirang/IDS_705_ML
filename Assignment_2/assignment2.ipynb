{
  "cells": [
    {
      "cell_type": "markdown",
      "id": "03d85059",
      "metadata": {},
      "source": [
        "# Assignment 2\n",
        "\n",
        "Supervised Machine Learning Fundamentals"
      ]
    },
    {
      "cell_type": "markdown",
      "id": "5a73dbed",
      "metadata": {},
      "source": [
        "*Yirang Liu*\n",
        "\n",
        "Netid: yl1041"
      ]
    },
    {
      "cell_type": "markdown",
      "id": "59d835b1",
      "metadata": {},
      "source": [
        "## Instructions\n",
        "\n",
        "*Instructions for all assignments can be found\n",
        "[here](https://kylebradbury.github.io/ids705/notebooks/assignment_instructions.html).\n",
        "Note: this assignment falls under collaboration Mode 2: Individual\n",
        "Assignment – Collaboration Permitted. Please refer to the syllabus for\n",
        "additional information. Please be sure to list the names of any students\n",
        "that you worked with on this assignment. Total points in the assignment\n",
        "add up to 90; an additional 10 points are allocated to professionalism\n",
        "and presentation quality.*\n",
        "\n",
        "## Learning Objectives:\n",
        "\n",
        "By successfully completing this assignment you will be able to… -\n",
        "Explain the bias-variance tradeoff of supervised machine learning and\n",
        "the impact of model flexibility on algorithm performance - Perform\n",
        "supervised machine learning training and performance evaluation -\n",
        "Implement a k-nearest neighbors machine learning algorithm from scratch\n",
        "in a style similar to that of popular machine learning tools like\n",
        "`scikit-learn` - Describe how KNN classification works, the method’s\n",
        "reliance on distance measurements, and the impact of higher\n",
        "dimensionality on computational speed - Apply regression (linear\n",
        "regression) and classification (KNN) supervised learning techniques to\n",
        "data and evaluate the performance of those methods - Construct simple\n",
        "feature transformations for improving model fit in linear models - Fit a\n",
        "`scikit-learn` supervised learning technique to training data and make\n",
        "predictions using it\n",
        "\n",
        "## Exercise 1 - Conceptual Questions on Supervised Learning I\n",
        "\n",
        "**\\[4 points\\]**\n",
        "\n",
        "For each part below, indicate whether we would generally expect the\n",
        "performance of a flexible statistical learning method to be *better* or\n",
        "*worse* than an inflexible method. Justify your answer.\n",
        "\n",
        "**1.1.** The sample size $n$ is extremely large, and the number of\n",
        "predictors $p$ is small."
      ]
    },
    {
      "cell_type": "markdown",
      "id": "2ecb4dc5",
      "metadata": {},
      "source": [
        ">__A flexible method will typically perform better.__ It's because with a large amount of data and relatively few predictors, a flexible model can learn complex relationships without as high a risk of overfitting. The large number of observations “balances out” the higher variance that comes from model flexibility."
      ]
    },
    {
      "cell_type": "markdown",
      "id": "9145ea40",
      "metadata": {},
      "source": [
        "**1.2.** The number of predictors $p$ is extremely large, and the number\n",
        "of observations $n$ is small."
      ]
    },
    {
      "cell_type": "markdown",
      "id": "d076c1d1",
      "metadata": {},
      "source": [
        "> __A flexible method will typically perform worse.__ It's becuase in high-dimensional settings (large *p*), flexible models are prone to overfitting, especially when the dataset is small. The large parameter space and limited data often lead to very high variance and poor generalization."
      ]
    },
    {
      "cell_type": "markdown",
      "id": "4aa72e0f",
      "metadata": {},
      "source": [
        "**1.3.** The relationship between the predictors and response is highly\n",
        "non-linear."
      ]
    },
    {
      "cell_type": "markdown",
      "id": "ed04d97d",
      "metadata": {},
      "source": [
        "> __A flexible method will typically perform better.__ It's because flexible methods (e.g. K-nearest neighbors with small *k*, or neural networks, or non-linear trees) can more easily adapt to complex, nonlinear relationships. Inflexible (e.g. purely linear) models may underfit if the true relationship is far from linear."
      ]
    },
    {
      "cell_type": "markdown",
      "id": "872edafe",
      "metadata": {},
      "source": [
        "**1.4.** The variance of the error terms,\n",
        "i.e. $\\sigma^2 = Var(\\epsilon)$, is extremely high."
      ]
    },
    {
      "cell_type": "markdown",
      "id": "4d6f94d9",
      "metadata": {},
      "source": [
        "> __A flexible method will typically perform worse.__ It's because if there is a great deal of irreducible noise in the data (large $\\sigma ^2$), adding extra flexibility often means fitting noise rather than true structure, leading to higher variance of the predictions and worse performance on new data."
      ]
    },
    {
      "cell_type": "markdown",
      "id": "b023dcf6",
      "metadata": {},
      "source": [
        "## Exercise 2 - Conceptual Questions on Supervised Learning II\n",
        "\n",
        "**\\[6 points\\]**\n",
        "\n",
        "For each of the following, (i) explain if each scenario is a\n",
        "classification or regression problem AND why, (ii) indicate whether we\n",
        "are most interested in inference or prediction for that problem AND why,\n",
        "and (iii) provide the sample size $n$ and number of predictors $p$\n",
        "indicated for each scenario.\n",
        "\n",
        "**2.1.** We collect a set of data on the top 500 firms in the US. For\n",
        "each firm we record profit, number of employees, industry and the CEO\n",
        "salary. We are interested in understanding which factors affect CEO\n",
        "salary."
      ]
    },
    {
      "cell_type": "markdown",
      "id": "621ef766",
      "metadata": {},
      "source": [
        ">1. Since CEO salary is a continuous outcome, this is a regression problem.\n",
        ">2. We care about which factors affect the response—this is primarily inference (trying to understand relationships/importance of predictors).\n",
        ">3. - Sample size: $n=500$\n",
        ">- Number of predictors: $p=3$ (profit, number of employees, and industry).\n",
        ">- (CEO salary is the response, not a predictor.)"
      ]
    },
    {
      "cell_type": "markdown",
      "id": "911c5dad",
      "metadata": {},
      "source": [
        "**2.2.** We are considering launching a new product and wish to know\n",
        "whether it will be a success or a failure. We collect data on 20 similar\n",
        "products that were previously launched. For each product we have\n",
        "recorded whether it was a success or failure, price charged for the\n",
        "product, marketing budget, competition price, and ten other variables."
      ]
    },
    {
      "cell_type": "markdown",
      "id": "83cd178d",
      "metadata": {},
      "source": [
        ">1. The response is success/failure, which is categorical, so this is a classification problem.\n",
        ">2. We are primarily interested in predicting whether the new product will succeed or fail, so this is a prediction problem.\n",
        ">3. - Sample size: $n=20$\n",
        ">- Number of predictors: $p$=1[price]+1[marketing budget]+1[competition price]+10[other vars]=13"
      ]
    },
    {
      "cell_type": "markdown",
      "id": "ad37a334",
      "metadata": {},
      "source": [
        "**2.3.** We are interested in predicting the % change in the US dollar\n",
        "in relation to the weekly changes in the world stock markets. Hence we\n",
        "collect weekly data for all of 2012. For each week we record the %\n",
        "change in the dollar, the % change in the US market, the % change in the\n",
        "British market, and the % change in the German market."
      ]
    },
    {
      "cell_type": "markdown",
      "id": "1fc93e6a",
      "metadata": {},
      "source": [
        ">1. % change in the dollar is a continuous value, so this is regression.\n",
        ">2. We want to predict future % changes in the US dollar based on market changes; that is a prediction goal.\n",
        ">3. - For 2012, there are typically 52 weeks in the year, so $n \\approx 52$.\n",
        ">- Number of predictors: $p=3$ (US market, British market, German market)."
      ]
    },
    {
      "cell_type": "markdown",
      "id": "1ff88986",
      "metadata": {},
      "source": [
        "## Exercise 3 - Classification using KNN\n",
        "\n",
        "**\\[6 points\\]**\n",
        "\n",
        "The table below provides a training dataset containing six observations\n",
        "(a.k.a. samples) ($n=6$) each with three predictors (a.k.a. features)\n",
        "($p=3$), and one qualitative response variable (a.k.a. target).\n",
        "\n",
        "*Table 1. Training dataset with $n=6$ observations in $p=3$ dimensions\n",
        "with a categorical response, $y$*\n",
        "\n",
        "| Obs.  | $x_1$ | $x_2$ | $x_3$ | $y$  |\n",
        "|-------|-------|-------|-------|------|\n",
        "| **1** | 0     | 3     | 0     | Red  |\n",
        "| **2** | 2     | 0     | 0     | Red  |\n",
        "| **3** | 0     | 1     | 3     | Red  |\n",
        "| **4** | 0     | 1     | 2     | Blue |\n",
        "| **5** | -1    | 0     | 1     | Blue |\n",
        "| **6** | 1     | 1     | 1     | Red  |\n",
        "\n",
        "We want to use the above training dataset to make a prediction,\n",
        "$\\hat{y}$, for an unlabeled test data observation where $x_1=x_2=x_3=0$\n",
        "using $K$-nearest neighbors. You are given some code below to get you\n",
        "started. *Note: coding is only required for part (a), for (b)-(d) please\n",
        "provide your reasoning based on your answer to part (a)*.\n",
        "\n",
        "**3.1.** Compute the Euclidean distance between each observation and the\n",
        "test point, $x_1=x_2=x_3=0$. Present your answer in a table similar in\n",
        "style to Table 1 with observations 1-6 as the row headers."
      ]
    },
    {
      "cell_type": "markdown",
      "id": "801405a1",
      "metadata": {},
      "source": [
        ">1. obs 1: distance = $\\sqrt{0^2+3^2+0^2}=3$\n",
        ">2. obs 2: distance = $\\sqrt{2^2+0^2+0^2}=2$\n",
        ">3. obs 3: distance = $\\sqrt{0^2+1^2+3^2}=\\sqrt{10}$\n",
        ">4. obs 4: distance = $\\sqrt{0^2+1^2+2^2}=\\sqrt{5}$\n",
        ">5. obs 5: distance = $\\sqrt{(-1)^2+0^2+1^2}=\\sqrt{2}$\n",
        ">6. obs 6: distance = $\\sqrt{1^2+1^2+1^2}=\\sqrt{3}$\n",
        "\n",
        "| Obs.  | $x_1$ | $x_2$ | $x_3$ | $y$  | Distance to (0, 0, 0) |\n",
        "|-------|-------|-------|-------|------|-----------------------|\n",
        "| **1** | 0     | 3     | 0     | Red  | 3                     |\n",
        "| **2** | 2     | 0     | 0     | Red  | 2                     |\n",
        "| **3** | 0     | 1     | 3     | Red  | $\\sqrt{10}$           |\n",
        "| **4** | 0     | 1     | 2     | Blue | $\\sqrt{5}$            |\n",
        "| **5** | -1    | 0     | 1     | Blue | $\\sqrt{2}$            |\n",
        "| **6** | 1     | 1     | 1     | Red  | $\\sqrt{3}$            |"
      ]
    },
    {
      "cell_type": "markdown",
      "id": "54c83c88",
      "metadata": {},
      "source": [
        "**3.2.** What is our prediction, $\\hat{y}$, when $K=1$ for the test\n",
        "point? Why?"
      ]
    },
    {
      "cell_type": "markdown",
      "id": "b325d50b",
      "metadata": {},
      "source": [
        "> My prediction, $\\hat{y}$, is __Blue__. It is because, for $K=1$, we take the single closest neighbor to (0,0,0), which is the smallest distance is for Obs 5 and Obs 5’s label is Blue."
      ]
    },
    {
      "cell_type": "markdown",
      "id": "b9107dd3",
      "metadata": {},
      "source": [
        "**3.3.** What is our prediction, $\\hat{y}$, when $K=3$ for the test\n",
        "point? Why?"
      ]
    },
    {
      "cell_type": "markdown",
      "id": "2da2721b",
      "metadata": {},
      "source": [
        "> My prediction, $\\hat{y}$, is __Red__ for the following reasons:\n",
        "> For $K=3$, we take the 3 closest neighbors.\n",
        "> From the table, we know they are:\n",
        ">   1. Obs 5 -- Blue -- Distance = $\\sqrt{2}$\n",
        ">   2. Obs 6 -- Red --- Distance = $\\sqrt{3}$\n",
        ">   3. Obs 2 -- Red —-- Distance = 2\n",
        ">\n",
        "> Among these 3 neighbors, we have 2 Reds (Obs 6, Obs 2) and 1 Blue (Obs 5).\n",
        "> The majority of the 3 is red"
      ]
    },
    {
      "cell_type": "markdown",
      "id": "822c3976-d234-4125-82ae-75b4b4355ee2",
      "metadata": {},
      "source": [
        "**3.4.** If the Bayes decision boundary (the optimal decision boundary)\n",
        "in this problem is highly nonlinear, then would we expect the *best*\n",
        "value of $K$ to be large or small? Why?"
      ]
    },
    {
      "cell_type": "markdown",
      "id": "5f11892d",
      "metadata": {},
      "source": [
        ">I would expect the best $K$ to be small. A smaller $K$ in KNN leads to a more flexible (more wiggly) decision boundary, which can capture a highly nonlinear pattern. A large $K$ tends to produce a smoother, less flexible decision boundary."
      ]
    },
    {
      "cell_type": "code",
      "execution_count": 2,
      "id": "cell-6",
      "metadata": {},
      "outputs": [],
      "source": [
        "import numpy as np\n",
        "\n",
        "X = np.array([[ 0, 3, 0],\n",
        "              [ 2, 0, 0],\n",
        "              [ 0, 1, 3],\n",
        "              [ 0, 1, 2],\n",
        "              [-1, 0, 1],\n",
        "              [ 1, 1, 1]])\n",
        "y = np.array(['r','r','r','b','b','r'])"
      ]
    },
    {
      "cell_type": "markdown",
      "id": "d318903c",
      "metadata": {},
      "source": [
        "## Exercise 4 - Build your own classification algorithm\n",
        "\n",
        "**\\[18 points\\]**\n",
        "\n",
        "> **Note**\n",
        ">\n",
        "> [Data for this exercise can be downloaded\n",
        "> here](https://github.com/kylebradbury/ids705/tree/main/notebooks/data/a1)\n",
        "\n",
        "**4.1.** Build a working version of a binary KNN classifier using the\n",
        "skeleton code below. We’ll use the `sklearn` convention that a\n",
        "supervised learning algorithm has the methods `fit` which trains your\n",
        "algorithm (for KNN that means storing the data) and `predict` which\n",
        "identifies the K nearest neighbors and determines the most common class\n",
        "among those K neighbors. *Note: Most classification algorithms typically\n",
        "also have a method `predict_proba` which outputs the confidence score of\n",
        "each prediction, but we will explore that in a later assignment. Please\n",
        "use `NumPy` to implement euclidean distance function.*"
      ]
    },
    {
      "cell_type": "code",
      "execution_count": 2,
      "id": "00421715",
      "metadata": {},
      "outputs": [],
      "source": [
        "import numpy as np\n",
        "\n",
        "class Knn:\n",
        "    def __init__(self):\n",
        "        self.X_train = None\n",
        "        self.y_train = None\n",
        "\n",
        "    def fit(self, X, y):\n",
        "        \"\"\"\n",
        "        Store the training data and labels\n",
        "        \"\"\"\n",
        "        self.X_train = X\n",
        "        self.y_train = y\n",
        "\n",
        "    def predict(self, X_test, k):\n",
        "        \"\"\"\n",
        "        For each row x in X_test:\n",
        "            1) Compute distances from x to all points in X_train\n",
        "            2) Take the k nearest neighbors\n",
        "            3) Return the majority class among those neighbors\n",
        "        \"\"\"\n",
        "        y_hat = []\n",
        "        for x in X_test:\n",
        "            # 1) Distances to all training points\n",
        "            distances = np.sqrt(np.sum((self.X_train - x)**2, axis=1))\n",
        "            # 2) Find the indices of the k smallest distances\n",
        "            nn_idx = np.argsort(distances)[:k]\n",
        "            # 3) Majority vote\n",
        "            # (assuming y is 0 or 1, or if it's strings you can still do a count)\n",
        "            neighbors = self.y_train[nn_idx]\n",
        "            # e.g. for binary classification with string labels:\n",
        "            # 'b' -> sum(neighbors == 'b')\n",
        "            counts = {}\n",
        "            for label in neighbors:\n",
        "                counts[label] = counts.get(label, 0) + 1\n",
        "            # pick the label with the highest count\n",
        "            pred_label = max(counts, key=counts.get)\n",
        "            y_hat.append(pred_label)\n",
        "        return np.array(y_hat)\n",
        "\n",
        "def accuracy(y_true, y_pred):\n",
        "    return np.sum(y_true == y_pred) / len(y_true)"
      ]
    },
    {
      "cell_type": "markdown",
      "id": "58a4c464",
      "metadata": {},
      "source": [
        "**4.2.** Load the datasets to be evaluated here. Each includes training\n",
        "features ($\\mathbf{X}$), and test features ($\\mathbf{y}$) for both a low\n",
        "dimensional dataset ($p = 2$ features/predictors) and a higher\n",
        "dimensional dataset ($p = 100$ features/predictors). For each of these\n",
        "datasets there are $n=1000$ observations of each. They can be found in\n",
        "the data subfolder on github (see link above). Each file is labeled\n",
        "similar to `A2_Q4_X_train_low.csv`, which lets you know whether the\n",
        "dataset is of features, $X$, targets, $y$; training or testing; and low\n",
        "or high dimensions."
      ]
    },
    {
      "cell_type": "code",
      "execution_count": 3,
      "id": "d549b5e8",
      "metadata": {},
      "outputs": [],
      "source": [
        "X_train_low = np.loadtxt(\"https://raw.githubusercontent.com/kylebradbury/ids705/refs/heads/main/notebooks/data/a2/A2_Q4_X_train_low.csv\", delimiter=\",\")\n",
        "y_train_low = np.loadtxt(\"https://raw.githubusercontent.com/kylebradbury/ids705/refs/heads/main/notebooks/data/a2/A2_Q4_y_train_low.csv\", delimiter=\",\")\n",
        "X_test_low  = np.loadtxt(\"https://raw.githubusercontent.com/kylebradbury/ids705/refs/heads/main/notebooks/data/a2/A2_Q4_X_test_low.csv\", delimiter=\",\")\n",
        "y_test_low  = np.loadtxt(\"https://raw.githubusercontent.com/kylebradbury/ids705/refs/heads/main/notebooks/data/a2/A2_Q4_y_test_low.csv\", delimiter=\",\")"
      ]
    },
    {
      "cell_type": "code",
      "execution_count": 4,
      "id": "c6ec0417",
      "metadata": {},
      "outputs": [],
      "source": [
        "X_train_high = np.loadtxt(\"https://raw.githubusercontent.com/kylebradbury/ids705/refs/heads/main/notebooks/data/a2/A2_Q4_X_train_high.csv\", delimiter=\",\")\n",
        "y_train_high = np.loadtxt(\"https://raw.githubusercontent.com/kylebradbury/ids705/refs/heads/main/notebooks/data/a2/A2_Q4_y_train_high.csv\", delimiter=\",\")\n",
        "X_test_high  = np.loadtxt(\"https://raw.githubusercontent.com/kylebradbury/ids705/refs/heads/main/notebooks/data/a2/A2_Q4_X_test_high.csv\", delimiter=\",\")\n",
        "y_test_high  = np.loadtxt(\"https://raw.githubusercontent.com/kylebradbury/ids705/refs/heads/main/notebooks/data/a2/A2_Q4_y_test_high.csv\", delimiter=\",\")"
      ]
    },
    {
      "cell_type": "markdown",
      "id": "dd06f55b",
      "metadata": {},
      "source": [
        "**4.3.** Train your classifier on first the low dimensional dataset and\n",
        "then the high dimensional dataset with $k=5$. Evaluate the\n",
        "classification performance on the corresponding test data for each of\n",
        "those trained models. Calculate the time it takes each model to make the\n",
        "predictions and the overall accuracy of those predictions for each\n",
        "corresponding set of test data - state each."
      ]
    },
    {
      "cell_type": "code",
      "execution_count": 11,
      "id": "87e461e2",
      "metadata": {},
      "outputs": [
        {
          "name": "stdout",
          "output_type": "stream",
          "text": [
            "Low-dim dataset:  Accuracy: 0.925\n",
            "Low-dim dataset:  Duration: 0.10486125946044922 seconds.\n"
          ]
        }
      ],
      "source": [
        "import time\n",
        "# train classifier on the low dimensional dataset\n",
        "start_low = time.time()\n",
        "k = 5\n",
        "model_low = Knn()\n",
        "model_low.fit(X_train_low, y_train_low)\n",
        "yhat_low = model_low.predict(X_test_low, k)\n",
        "acc_low = accuracy(y_test_low, yhat_low)\n",
        "end_low = time.time()\n",
        "print(\"Low-dim dataset:  Accuracy:\", acc_low)\n",
        "print(\"Low-dim dataset:  Duration:\", end_low-start_low, \"seconds.\")"
      ]
    },
    {
      "cell_type": "code",
      "execution_count": 13,
      "id": "069f56cc",
      "metadata": {},
      "outputs": [
        {
          "name": "stdout",
          "output_type": "stream",
          "text": [
            "High-dim dataset: Accuracy: 0.993\n",
            "High-dim dataset:  Duration: 0.22011995315551758 seconds.\n"
          ]
        }
      ],
      "source": [
        "# train classifier on the high dimensional dataset\n",
        "start_high = time.time()\n",
        "model_high = Knn()\n",
        "model_high.fit(X_train_high, y_train_high)\n",
        "yhat_high = model_high.predict(X_test_high, k)\n",
        "acc_high = accuracy(y_test_high, yhat_high)\n",
        "end_high = time.time()\n",
        "print(\"High-dim dataset: Accuracy:\", acc_high)\n",
        "print(\"High-dim dataset:  Duration:\", end_high-start_high, \"seconds.\")"
      ]
    },
    {
      "cell_type": "markdown",
      "id": "f8c5e0a8",
      "metadata": {},
      "source": [
        ">|   | Accuracy | Duration(s) |\n",
        ">|-------|-------|-------|\n",
        ">| Low-dim dataset | 0.925     | 0.10486     |\n",
        ">| High-dim dataset | 0.993     | 0.22011     |"
      ]
    },
    {
      "cell_type": "markdown",
      "id": "33057254",
      "metadata": {},
      "source": [
        "**4.4.** Compare your implementation’s accuracy and computation time to\n",
        "the scikit learn\n",
        "[KNeighborsClassifier](http://scikit-learn.org/stable/modules/generated/sklearn.neighbors.KNeighborsClassifier.html)\n",
        "class. How do the results and speed compare to your implementation?\n",
        "*Hint: your results should be identical to that of the scikit-learn\n",
        "implementation.*"
      ]
    },
    {
      "cell_type": "code",
      "execution_count": 29,
      "id": "8b152259",
      "metadata": {},
      "outputs": [
        {
          "name": "stdout",
          "output_type": "stream",
          "text": [
            "SKLearn Low-dim: accuracy: 0.925 time: 0.07962703704833984 seconds.\n"
          ]
        }
      ],
      "source": [
        "from sklearn.neighbors import KNeighborsClassifier\n",
        "import time\n",
        "\n",
        "# Low dimensional\n",
        "# not aligned with results above\n",
        "\n",
        "knn_sklearn = KNeighborsClassifier(n_neighbors=5)\n",
        "knn_sklearn.fit(X_train_low, y_train_low)\n",
        "t0_low = time.time()\n",
        "yhat_sklearn_low = knn_sklearn.predict(X_test_low)\n",
        "t1_low = time.time()\n",
        "acc_sklearn_low = accuracy(y_test_low, yhat_sklearn_low)\n",
        "\n",
        "print(\"SKLearn Low-dim: accuracy:\", acc_sklearn_low, \"time:\", t1_low - t0_low, \"seconds.\")"
      ]
    },
    {
      "cell_type": "code",
      "execution_count": null,
      "id": "87af2a19",
      "metadata": {},
      "outputs": [
        {
          "name": "stdout",
          "output_type": "stream",
          "text": [
            "SKLearn High-dim: accuracy: 0.993 time: 0.010210037231445312 seconds.\n"
          ]
        }
      ],
      "source": [
        "# High dimensional\n",
        "# not aligned with results above\n",
        "knn_sklearn = KNeighborsClassifier(n_neighbors=5)\n",
        "knn_sklearn.fit(X_train_high, y_train_high)\n",
        "t0_high = time.time()\n",
        "yhat_sklearn_high = knn_sklearn.predict(X_test_high)\n",
        "t1_high = time.time()\n",
        "acc_sklearn_high = accuracy(y_test_high, yhat_sklearn_high)\n",
        "\n",
        "print(\"SKLearn High-dim: accuracy:\", acc_sklearn_high, \"time:\", t1_high - t0_high, \"seconds.\")"
      ]
    },
    {
      "cell_type": "markdown",
      "id": "0c9bfc88-719d-4761-bf96-afe7e9f931ad",
      "metadata": {},
      "source": [
        "\n",
        "\n",
        "**4.5.** Some supervised learning algorithms are more computationally\n",
        "intensive during training than testing. What are the drawbacks of the\n",
        "prediction process being slow? In what cases in practice might slow\n",
        "testing (inference) be more problematic than slow training?"
      ]
    },
    {
      "cell_type": "markdown",
      "id": "7e6eda8d",
      "metadata": {},
      "source": [
        ">- If testing (inference) is slow, then for each new instance you want to classify, it takes a long time to produce an answer. This can be problematic in:\n",
        ">    - Real-time systems (e.g. self-driving cars, live recommendation engines).\n",
        ">    - Large-scale applications (e.g. thousands of queries per second).\n",
        ">- By contrast, if training is slow (but inference is fast), it’s often acceptable for offline or batch training (e.g. you train overnight, then quickly deploy predictions).\n",
        ">- Hence, a model (like naive KNN) that can be fast to train (just storing data) but slow to predict can be a problem if you need real-time predictions."
      ]
    },
    {
      "cell_type": "code",
      "execution_count": null,
      "id": "cell-8",
      "metadata": {},
      "outputs": [],
      "source": [
        "# Skeleton code for part (a) to write your own kNN classifier\n",
        "\n",
        "class Knn:\n",
        "# k-Nearest Neighbor class object for classification training and testing\n",
        "    def __init__(self):\n",
        "        \n",
        "    def fit(self, x, y):\n",
        "        # Save the training data to properties of this class\n",
        "        \n",
        "    def predict(self, x, k):\n",
        "        y_hat = [] # Variable to store the estimated class label for \n",
        "        # Calculate the distance from each vector in x to the training data\n",
        "        \n",
        "        # Return the estimated targets\n",
        "        return y_hat\n",
        "\n",
        "# Metric of overall classification accuracy\n",
        "#  (a more general function, sklearn.metrics.accuracy_score, is also available)\n",
        "def accuracy(y,y_hat):\n",
        "    nvalues = len(y)\n",
        "    accuracy = sum(y == y_hat) / nvalues\n",
        "    return accuracy"
      ]
    },
    {
      "cell_type": "markdown",
      "id": "1d653983",
      "metadata": {},
      "source": [
        "## Exercise 5 - Bias-variance tradeoff: exploring the tradeoff with a KNN classifier\n",
        "\n",
        "**\\[20 points\\]**\n",
        "\n",
        "This exercise will illustrate the impact of the bias-variance tradeoff\n",
        "on classifier performance by investigating how model flexibility impacts\n",
        "classifier decision boundaries. For this problem, please us\n",
        "Scikit-learn’s KNN implementation rather than your own implementation,\n",
        "as you did at the end of the last question.\n",
        "\n",
        "**5.1.** Create a synthetic dataset (with both features and targets).\n",
        "Use the\n",
        "[`make_moons`](http://scikit-learn.org/stable/modules/generated/sklearn.datasets.make_moons.html#sklearn.datasets.make_moons)\n",
        "module with the parameter `noise=0.35` to generate 1000 random samples."
      ]
    },
    {
      "cell_type": "code",
      "execution_count": 42,
      "id": "d1e43f83",
      "metadata": {},
      "outputs": [],
      "source": [
        "from sklearn.datasets import make_moons\n",
        "import numpy as np\n",
        "\n",
        "X_all, y_all = make_moons(n_samples=1000, noise=0.35, random_state=42)"
      ]
    },
    {
      "cell_type": "markdown",
      "id": "0b802074",
      "metadata": {},
      "source": [
        "**5.2.** Visualize your data: scatterplot your random samples with each\n",
        "class in a different color."
      ]
    },
    {
      "cell_type": "code",
      "execution_count": 49,
      "id": "5b75307d",
      "metadata": {},
      "outputs": [
        {
          "data": {
            "image/png": "[encoded data removed]",
            "text/plain": [
              "<Figure size 640x480 with 1 Axes>"
            ]
          },
          "metadata": {},
          "output_type": "display_data"
        }
      ],
      "source": [
        "import matplotlib.pyplot as plt\n",
        "\n",
        "x_coords = X_all[:, 0]\n",
        "y_coords = X_all[:, 1]\n",
        "plt.scatter(x_coords, y_coords, c=y_all, cmap='viridis')\n",
        "plt.title('Synthetic dataset of 1000 with noise 0.35')\n",
        "plt.xlabel('X')\n",
        "plt.ylabel('y')\n",
        "plt.show()\n"
      ]
    },
    {
      "cell_type": "markdown",
      "id": "49e723e8",
      "metadata": {},
      "source": [
        "**5.3.** Create 3 different data subsets by selecting 100 of the 1000\n",
        "data points at random three times (with replacement). For each of these\n",
        "100-sample datasets, fit three separate k-Nearest Neighbor classifiers\n",
        "with: $k = \\{1, 25, 50\\}$. This will result in 9 combinations (3\n",
        "datasets, each with 3 trained classifiers)."
      ]
    },
    {
      "cell_type": "code",
      "execution_count": 50,
      "id": "591ea024",
      "metadata": {},
      "outputs": [],
      "source": [
        "indices = np.arange(1000)\n",
        "subsets = []\n",
        "for i in range(3):\n",
        "    chosen = np.random.choice(indices, size=100, replace=False)\n",
        "    # why replacement = false for with replacement\n",
        "    X_sub = X_all[chosen, :]\n",
        "    y_sub = y_all[chosen]\n",
        "    subsets.append((X_sub, y_sub))\n",
        "\n",
        "from sklearn.neighbors import KNeighborsClassifier\n",
        "\n",
        "k_values = [1, 25, 50]\n",
        "models = []\n",
        "\n",
        "for (X_sub, y_sub) in subsets:\n",
        "    row_models = []\n",
        "    for k in k_values:\n",
        "        knn = KNeighborsClassifier(n_neighbors=k)\n",
        "        knn.fit(X_sub, y_sub)\n",
        "        row_models.append(knn)\n",
        "    models.append(row_models)\n",
        "# 'models' is now a list of 3 (subsets) x 3 (k-values) trained classifiers\n"
      ]
    },
    {
      "cell_type": "markdown",
      "id": "e25aefb9",
      "metadata": {},
      "source": [
        "**5.4.** For each combination of dataset and trained classifier plot the\n",
        "decision boundary (similar in style to Figure 2.15 from *Introduction to\n",
        "Statistical Learning*). This should form a 3-by-3 grid. Each column\n",
        "should represent a different value of $k$ and each row should represent\n",
        "a different dataset."
      ]
    },
    {
      "cell_type": "markdown",
      "id": "ea34ed9a",
      "metadata": {},
      "source": [
        "**5.5.** What do you notice about the difference between the decision\n",
        "boundaries in the rows and the columns in your figure? Which decision\n",
        "boundaries appear to best separate the two classes of data with respect\n",
        "to the training data? Which decision boundaries vary the most as the\n",
        "training data change? Which decision boundaries do you anticipate will\n",
        "generalize best to unseen data and why?"
      ]
    },
    {
      "cell_type": "markdown",
      "id": "faecd4bc",
      "metadata": {},
      "source": [
        ">- Differences among rows: Each row is a different random subset of 100 points. The decision boundaries vary from row to row because the training sample changes. This variation across different training sets is related to variance.\n",
        ">- Differences among columns: The columns have different $k$\n",
        ">   - $k=1$: Very “wiggly” (complex) boundary. Likely low bias, but high variance from subset to subset (overfitting). \n",
        ">   - $k=50$: Smoother boundary (high bias, but lower variance). \n",
        ">   - $k=25$: Intermediate complexity."
      ]
    },
    {
      "cell_type": "markdown",
      "id": "c5ff10d4-9201-4e79-b3ca-1d8fd100e9fc",
      "metadata": {},
      "source": [
        "**5.6.** Explain the bias-variance tradeoff using the example of the\n",
        "plots you made in this exercise and its implications for training\n",
        "supervised machine learning algorithms.\n",
        "\n",
        "Notes and tips for plotting decision boundaries (as in part 5.4): -\n",
        "*Resource for plotting decision boundaries with meshgrid and contour:\n",
        "https://scikit-learn.org/stable/auto_examples/neighbors/plot_classification.html* -\n",
        "If you would like to change the colors of the background, and do not\n",
        "like any of the existing cmap available in matplotlib, you can make your\n",
        "own cmap using the 2 sets of rgb values. Sample code (replace r, g, b\n",
        "with respective rgb values):"
      ]
    },
    {
      "cell_type": "markdown",
      "id": "fd7de909",
      "metadata": {},
      "source": [
        ">- When $k=1$, the classifier can fit tiny local idiosyncrasies of whichever 100 points it sees—low bias (it can fit “anything”), high variance (small changes in the training set can drastically change the decision boundary).\n",
        ">- When $k=50$, the decision boundary is smoother—higher bias (it may underfit if the boundary is truly complicated) but lower variance across different training sets.\n",
        ">- This illustrates the fundamental bias-variance tradeoff: choosing a model that is too flexible can overfit, while a model that is too simple can underfit."
      ]
    },
    {
      "cell_type": "code",
      "execution_count": null,
      "id": "cell-10",
      "metadata": {},
      "outputs": [],
      "source": [
        "from matplotlib.colors import LinearSegmentedColormap\n",
        "newcmp = LinearSegmentedColormap.from_list(\"new\", [(r/255, g/255, b/255), (r/255, g/255, b/255)], N=2)"
      ]
    },
    {
      "cell_type": "markdown",
      "id": "5cc8dd99",
      "metadata": {},
      "source": [
        "## Exercise 6 - Bias-variance trade-off II: Quantifying the tradeoff\n",
        "\n",
        "**\\[18 points\\]**\n",
        "\n",
        "This exercise explores the impact of the bias-variance tradeoff on\n",
        "classifier performance by looking at the performance on both training\n",
        "and test data.\n",
        "\n",
        "Here, the value of $k$ determines how flexible our model is.\n",
        "\n",
        "**6.1.** Using the function created earlier to generate random samples\n",
        "(using the `make_moons` function setting the `noise` parameter to 0.35),\n",
        "create a new set of 1000 random samples, and call this dataset your test\n",
        "set and the previously created dataset your training set."
      ]
    },
    {
      "cell_type": "code",
      "execution_count": null,
      "id": "73ce808d",
      "metadata": {},
      "outputs": [],
      "source": []
    },
    {
      "cell_type": "markdown",
      "id": "50cfb191",
      "metadata": {},
      "source": [
        "**6.2.** Train a kNN classifier on your training set for\n",
        "$k = 1,2,...500$. Apply each of these trained classifiers to both your\n",
        "training dataset and your test dataset and plot the classification error\n",
        "(fraction of incorrect predictions)."
      ]
    },
    {
      "cell_type": "markdown",
      "id": "276af910",
      "metadata": {},
      "source": [
        "**6.3.** What trend do you see in the results?"
      ]
    },
    {
      "cell_type": "markdown",
      "id": "75a3eb3a",
      "metadata": {},
      "source": [
        "**6.4.** What values of $k$ represent high bias and which represent high\n",
        "variance?"
      ]
    },
    {
      "cell_type": "markdown",
      "id": "bbdce441",
      "metadata": {},
      "source": [
        "**6.5.** What is the optimal value of $k$ and why?"
      ]
    },
    {
      "cell_type": "markdown",
      "id": "9b80a1ca",
      "metadata": {},
      "source": [
        "**6.6.** In KNN classifiers, the value of k controls the flexibility of\n",
        "the model - what controls the flexibility of other models?"
      ]
    },
    {
      "cell_type": "markdown",
      "id": "c1065b9e",
      "metadata": {},
      "source": [
        "## Exercise 7 - Linear regression and nonlinear transformations\n",
        "\n",
        "**\\[18 points\\]**\n",
        "\n",
        "> **Note**\n",
        ">\n",
        "> [Data for this exercise can be downloaded\n",
        "> here](https://github.com/kylebradbury/ids705/tree/main/notebooks/data/a1)\n",
        "\n",
        "Linear regression can be used to model nonlinear relationships when\n",
        "feature variables are properly transformed to represent the\n",
        "nonlinearities in the data folder. In this exercise, you’re given\n",
        "training and test data contained in files “A2_Q7_train.csv” and\n",
        "“A2_Q7_test.csv” in the data. Your goal is to develop a regression\n",
        "algorithm from the training data that performs well on the test data.\n",
        "\n",
        "*Hint: Use the scikit learn\n",
        "[LinearRegression](http://scikit-learn.org/stable/modules/generated/sklearn.linear_model.LinearRegression.html)\n",
        "module.*\n",
        "\n",
        "**7.1.** Create a scatter plot of your training data."
      ]
    },
    {
      "cell_type": "markdown",
      "id": "4d1efda6",
      "metadata": {},
      "source": [
        "**7.2.** Estimate a linear regression model ($y = a_0 + a_1 x$) for the\n",
        "training data and calculate both the $R^2$ value and mean square error\n",
        "for the fit of that model for the training data. Also provide the\n",
        "equation representing the estimated model (e.g. $y = a_0 + a_1 x$, but\n",
        "with the estimated coefficients inserted. Consider this your baseline\n",
        "model against which you will compare other model options. *Evaluating\n",
        "performance on the training data is not a measure of how well this model\n",
        "would generalize to unseen data. We will evaluate performance on the\n",
        "test data once we see our models fit the training data decently well.*"
      ]
    },
    {
      "cell_type": "markdown",
      "id": "2896f111",
      "metadata": {},
      "source": [
        "**7.3.** If features can be nonlinearly transformed, a linear model may\n",
        "incorporate those non-linear feature transformation relationships in the\n",
        "training process. From looking at the scatter plot of the training data,\n",
        "choose a transformation of the predictor variable, $x$ that may make\n",
        "sense for these data. This will be a multiple regression model of the\n",
        "form $y = a_0 + a_1 z_1 + a_2 z_2 + \\ldots + a_n z_n$. Here $z_i$ could\n",
        "be any transformations of x - perhaps it’s $\\frac{1}{x}$, $log(x)$,\n",
        "$sin(x)$, $x^k$ (where $k$ is any power of your choosing). Provide the\n",
        "estimated equation for this multiple regression model (e.g. if you chose\n",
        "your predictors to be $z_1 = x$ and $z_2 = log(x)$, your model would be\n",
        "of the form $y = a_0 + a_1 x + a_2 log(x)$. Also provide the $R^2$ and\n",
        "mean square error of the fit for the training data."
      ]
    },
    {
      "cell_type": "markdown",
      "id": "594eb8f7",
      "metadata": {},
      "source": [
        "**7.4.** Visualize the model fit to the training data. Using both of the\n",
        "models you created in parts (b) and (c), plot the original data (as a\n",
        "scatter plot) AND the curves representing your models (each as a\n",
        "separate curve) from (b) and (c)."
      ]
    },
    {
      "cell_type": "markdown",
      "id": "14468306",
      "metadata": {},
      "source": [
        "**7.5.** Now its time to compare your models and evaluate the\n",
        "generalization performance on held out test data. Using the models above\n",
        "from (b) an (c), apply them to the test data and estimate the $R^2$ and\n",
        "mean square error of the test dataset."
      ]
    },
    {
      "cell_type": "markdown",
      "id": "832ed14d",
      "metadata": {},
      "source": [
        "**7.6.** Which models perform better on the training data, and which on\n",
        "the test data? Why?"
      ]
    },
    {
      "cell_type": "markdown",
      "id": "d7f246d9",
      "metadata": {},
      "source": [
        "**7.7.** Imagine that the test data were significantly different from\n",
        "the training dataset. How might this affect the predictive capability of\n",
        "your model? How would the accuracy of generalization performance be\n",
        "impacted? Why?\n",
        "\n",
        "*To help get you started - here’s some code to help you load in the data\n",
        "for this exercise (you’ll just need to update the path)*:"
      ]
    },
    {
      "cell_type": "code",
      "execution_count": 20,
      "id": "cell-13",
      "metadata": {},
      "outputs": [],
      "source": [
        "import numpy as np\n",
        "import pandas as pd\n",
        "\n",
        "path = './data/a2'\n",
        "train = pd.read_csv(path + 'A2_Q7_train.csv')\n",
        "test = pd.read_csv(path + 'A2_Q7_test.csv')\n",
        "\n",
        "x_train = train.x.values\n",
        "y_train = train.y.values\n",
        "\n",
        "x_test = test.x.values\n",
        "y_test = test.y.values"
      ]
    }
  ],
  "metadata": {
    "kernelspec": {
      "display_name": "base",
      "language": "python",
      "name": "python3"
    },
    "language_info": {
      "codemirror_mode": {
        "name": "ipython",
        "version": 3
      },
      "file_extension": ".py",
      "mimetype": "text/x-python",
      "name": "python",
      "nbconvert_exporter": "python",
      "pygments_lexer": "ipython3",
      "version": "3.12.7"
    },
    "varInspector": {
      "cols": {
        "lenName": "16",
        "lenType": "16",
        "lenVar": "40"
      },
      "kernels_config": {
        "python": {
          "delete_cmd_postfix": "",
          "delete_cmd_prefix": "del",
          "library": "var_list.py",
          "varRefreshCmd": "print(var_dic_list())"
        },
        "r": {
          "delete_cmd_postfix": ")",
          "delete_cmd_prefix": "rm(",
          "library": "var_list.r",
          "varRefreshCmd": "cat(var_dic_list())"
        }
      },
      "types_to_exclude": [
        "module",
        "function",
        "builtin_function_or_method",
        "instance",
        "_Feature"
      ],
      "window_display": false
    },
    "vscode": {
      "interpreter": {
        "hash": "f54e0b9f92ceb50229b3b7ea26b5d02f05ce8845dd8d997c014a0efede4c9c20"
      }
    }
  },
  "nbformat": 4,
  "nbformat_minor": 5
}
