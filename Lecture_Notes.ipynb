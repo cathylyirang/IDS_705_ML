{
 "cells": [
  {
   "cell_type": "markdown",
   "metadata": {},
   "source": [
    "# 20250123\n",
    "# Lecture 5\n",
    "\n",
    "1. transform non-linear relationship to linear relationship\n",
    "    - eg change cartisian coords to polar coords\n",
    "2. regression - classification\n",
    "    - push all numeric output into categories\n",
    "        - sign function 1 or -1\n",
    "        - 0 and 1\n",
    "    - difference between regression and classification\n",
    "        - regression - linear $\\approx$ non-crystal\n",
    "        - classification - Z-shaped - threshold $\\approx$ crystal\n",
    "    - separation line is for penalization or calculation for error\n",
    "        - Sigmoid function\n",
    "3. Classification = logistic regression\n",
    "    - Sigmoid function - S-shaped - the further from threshold, the more penalty\n",
    "    - model -> confidence score -> how likely the x leads to y belonging to a certian class\n",
    "        - for binary - $P_{class_1} = 1-P_{class_2}$ \n",
    "        - $P_{class_1}$ - S-shaped\n",
    "        - $P_{class_2}$ - Z-shaped\n",
    "        - log(odds) - linear\n",
    "    - Likelihood function = -(loss function) = -(cost function)\n",
    "        - maximize likelihood\n",
    "        - $\\hat{p}$ optimal $p$\n",
    "    - __cross-entropy cost function__ $C(w)$\n",
    "        - Caveats\n",
    "            - no matter what numbers are used to represent the two class, the function will change accordingly\n",
    "        - if predicton correct -> $C(w) \\approx 0$\n",
    "        - if prediction wrong -> $C(w) \\approx \\infty$\n",
    "        - Why cross-entropy is better used for classification __the worse the prediction, the more penalty__\n",
    "    - Gradient decent\n",
    "        - different way to find parameters from linear regression\n",
    "        - $x^{(i+1)}=x^{(i)}-\\eta \\nabla f(x^{(i)})$\n",
    "            - $\\eta$ = learning rate \n",
    "            - $\\nabla f(x^{(i)})$ = slope of tangent at $x^{(i)}$ indicating the magnitute and opposite direction of $x^{(i+1)}$\n",
    "\n"
   ]
  },
  {
   "cell_type": "markdown",
   "metadata": {},
   "source": []
  }
 ],
 "metadata": {
  "language_info": {
   "name": "python"
  }
 },
 "nbformat": 4,
 "nbformat_minor": 2
}
