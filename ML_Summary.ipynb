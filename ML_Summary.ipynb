{
 "cells": [
  {
   "cell_type": "markdown",
   "metadata": {},
   "source": [
    "# ML Summary of reading and lectures"
   ]
  },
  {
   "cell_type": "markdown",
   "metadata": {},
   "source": [
    "## Lecture 1 What is machine learning?"
   ]
  },
  {
   "cell_type": "markdown",
   "metadata": {},
   "source": [
    "- definition\n",
    "    - use historical experience and data\n",
    "    - make the process scalable\n",
    "    - describe, predict, or strategize"
   ]
  },
  {
   "cell_type": "markdown",
   "metadata": {},
   "source": [
    "- challenges -> find the best model that is **simple** and **generalize well to new data**\n",
    "    1. collect data -----> data must be representative\n",
    "    2. extract features -> developing representations of data to enable learning -> features can be extracted to learn\n",
    "    3. fit model --------> model must be generalize well to new data -> simplest model that achieves the goal"
   ]
  },
  {
   "cell_type": "markdown",
   "metadata": {},
   "source": [
    "- fitting problems\n",
    "    - overfitting\n",
    "        - try to satisfy all training data\n",
    "        - against generalization\n",
    "    - underfitting\n",
    "        - not represent enough data\n",
    "        - against fit well"
   ]
  },
  {
   "cell_type": "markdown",
   "metadata": {},
   "source": [
    "- Deep learning <- Machine Learning <- Artificial Intelligence"
   ]
  },
  {
   "cell_type": "markdown",
   "metadata": {},
   "source": [
    "- Types of machine learning\n",
    "    |         | Supervised              | Unsupervised                     | Reinforcement            |\n",
    "    |---------|-------------------------|----------------------------------|--------------------------|\n",
    "    | Goal    | Predict                 | Describe                         | Strategize               |\n",
    "    |         | inference -> prediction | find pattern to describe outcome | learn by trial and error |\n",
    "    | Data    | (x,y)                   | x                                | delayed feedback         |\n",
    "    | Types   | classification          | Density estimation               | Model-free learning      |\n",
    "    |         | regression              | Clustering                       | Model-based learning     |\n",
    "    |         |                         | Dimensionality reduction         |                          |\n",
    "    |         |                         | Anomaly detection                |                          |\n",
    "    | Example | x-y pair provided       | only x provided                  | neither provided         |\n",
    "    |         | house price             |                                  | games                    |\n",
    "    |         | features can be extracted to lead to final label | features can be seen but outcome unknown | no feature unknown outcome"
   ]
  },
  {
   "cell_type": "markdown",
   "metadata": {},
   "source": [
    "## Lecture 2 End-to-end machine learning"
   ]
  },
  {
   "cell_type": "markdown",
   "metadata": {},
   "source": [
    "### Supervised machine learning\n",
    "- given training data as \n",
    "    | obs # | $X$ | $y$ |\n",
    "    |-------|-----|-----|\n",
    "    | 1 | $X_1$ | $y_1$ |\n",
    "    | 2 | $X_2$ | $y_2$ |\n",
    "    | 3 | $X_3$ | $y_3$ |\n",
    "- performance metric\n",
    "    - classification --> accuracy\n",
    "    - regression ------> Mean squared error\n",
    "- model\n",
    "    > $y=f(x,\\boldsymbol{w})+ \\epsilon $\n",
    "    >- $y$ = label / outcome / target / \n",
    "    >- $f(x,\\boldsymbol{w})$ = model --------> hypothesis\n",
    "    >- $x$ = input data\n",
    "    >- $\\boldsymbol{w}$ = parameters ----------> hypothesis\n",
    "    >- $\\epsilon $ = random noises"
   ]
  },
  {
   "cell_type": "markdown",
   "metadata": {},
   "source": [
    "- Supervised Machine Learning Process\n",
    "    1. Define your problem, set your goal, and how you will measure success\n",
    "    2. Get data\n",
    "    3. Explore and prepare the data ---------------------------> deep diving in\n",
    "    4. Propose one or more hypotheses: prospective models -----> deep diving in\n",
    "    5. Evaluate model performance and iteratively fine tune ---> deep diving in\n",
    "    6. Deploy your trained model"
   ]
  },
  {
   "cell_type": "markdown",
   "metadata": {},
   "source": [
    "## Summary"
   ]
  },
  {
   "cell_type": "markdown",
   "metadata": {},
   "source": [
    "|         | Supervised              | Unsupervised                     | Reinforcement            |\n",
    "|---------|-------------------------|----------------------------------|--------------------------|\n",
    "| Goal    | Predict                 | Describe                         | Strategize               |\n",
    "|         | inference -> prediction | find pattern to describe outcome | learn by trial and error |\n",
    "| Data    | (x,y)                   | x                                | delayed feedback         |\n",
    "| Types   | classification          | Density estimation               | Model-free learning      |\n",
    "|         | regression              | Clustering                       | Model-based learning     |\n",
    "|         |                         | Dimensionality reduction         |                          |\n",
    "|         |                         | Anomaly detection                |                          |\n",
    "| Example | x-y pair provided       | only x provided                  | neither provided         |\n",
    "|         | house price             |                                  | games                    |\n",
    "|         | features can be extracted to lead to final label | features can be seen but outcome unknown | no feature unknown outcome\n",
    "| model   | $y=f(x,\\boldsymbol{w})+ \\epsilon $ | Dimensionality reduction         |                          |\n"
   ]
  },
  {
   "cell_type": "markdown",
   "metadata": {},
   "source": []
  },
  {
   "cell_type": "markdown",
   "metadata": {},
   "source": []
  }
 ],
 "metadata": {
  "language_info": {
   "name": "python"
  }
 },
 "nbformat": 4,
 "nbformat_minor": 2
}
